{
 "cells": [
  {
   "cell_type": "code",
   "execution_count": null,
   "id": "2fc26d27",
   "metadata": {},
   "outputs": [
    {
     "name": "stdout",
     "output_type": "stream",
     "text": [
      "Hi! Welcome to the Number Guessing Game.\n",
      "Let's start!\n",
      "\n",
      "You have 7 chances to guess the number between 27 and 156. Let's start!\n",
      "79\n"
     ]
    },
    {
     "data": {
      "text/plain": [
       "'Guess 1: 79 → Correct! Congratulations'"
      ]
     },
     "execution_count": 65,
     "metadata": {},
     "output_type": "execute_result"
    }
   ],
   "source": [
    "import numpy as np\n",
    "\n",
    "\n",
    "def binarySearch(arr, l, x):\n",
    "    low, high = 0, len(arr) - 1\n",
    "    i = 1\n",
    "    while low <= high:\n",
    "        mid = low + (high - low) // 2\n",
    "        if arr[mid] == x:\n",
    "            return i\n",
    "        elif arr[mid] < x:\n",
    "            low = mid + 1\n",
    "        else:\n",
    "            high = mid - 1\n",
    "        i+=1\n",
    "\n",
    "def num_guess(user_input):\n",
    "    try:\n",
    "        low, high = sorted(map(int, user_input))\n",
    "    except:\n",
    "        print(\"Invalid input. Please enter two integers separated by '-'.\")\n",
    "        return\n",
    "    n, i = np.random.randint(low,high+1), 1\n",
    "    bs = binarySearch(np.arange(low,high+1),low,n)\n",
    "    print(f\"\\nYou have {bs} chances to guess the number between {low} and {high}. Let's start!\")\n",
    "    #print(n)\n",
    "    while i <= bs:\n",
    "        try:\n",
    "            user_input1 = int(input(f\"Take Guess {i}: \"))\n",
    "        except:\n",
    "            print(\"Invalid guess. Please enter an integer.\")\n",
    "            continue\n",
    "        if user_input1 == n: \n",
    "            return f\"Guess {i}: {user_input1} → Correct! Congratulations\"\n",
    "        print(f\"Guess {i}: {user_input1} → {'Too Low!' if user_input1 < n else 'Too High!'}\")\n",
    "        i += 1\n",
    "    return \"Better Luck Next Time!\"\n",
    "        \n",
    "print(\"Hi! Welcome to the Number Guessing Game.\\nLet's start!\")\n",
    "user_input = input(\"Enter Lower Bound and Upper Bound:\").split(\"-\")\n",
    "\n",
    "num_guess(user_input)\n",
    "\n",
    "\n"
   ]
  }
 ],
 "metadata": {
  "kernelspec": {
   "display_name": "Python 3",
   "language": "python",
   "name": "python3"
  },
  "language_info": {
   "codemirror_mode": {
    "name": "ipython",
    "version": 3
   },
   "file_extension": ".py",
   "mimetype": "text/x-python",
   "name": "python",
   "nbconvert_exporter": "python",
   "pygments_lexer": "ipython3",
   "version": "3.13.3"
  }
 },
 "nbformat": 4,
 "nbformat_minor": 5
}
